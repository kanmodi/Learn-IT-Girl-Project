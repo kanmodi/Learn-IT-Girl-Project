{
 "cells": [
  {
   "cell_type": "code",
   "execution_count": 12,
   "metadata": {
    "collapsed": true
   },
   "outputs": [],
   "source": [
    "import pandas as pd\n",
    "import numpy as np\n",
    "import matplotlib as plt \n",
    "from sklearn.linear_model import LogisticRegression\n",
    "from sklearn import metrics\n",
    "from sklearn.neural_network import MLPClassifier"
   ]
  },
  {
   "cell_type": "code",
   "execution_count": 5,
   "metadata": {
    "collapsed": true
   },
   "outputs": [],
   "source": [
    "df1=pd.read_csv('Human Activity Recognition/train/X_train.csv', sep=',',header=None)\n",
    "f = df1.as_matrix\n",
    "train_input = df1.astype(str)\n",
    "df2=pd.read_csv('Human Activity Recognition/train/y_train.csv', sep=',',header=None)\n",
    "f = df2.as_matrix\n",
    "train_output = df2.astype(str)"
   ]
  },
  {
   "cell_type": "code",
   "execution_count": 6,
   "metadata": {
    "collapsed": true
   },
   "outputs": [],
   "source": [
    "df1=pd.read_csv('Human Activity Recognition/test/X_test.csv', sep=',',header=None)\n",
    "f = df1.as_matrix\n",
    "test_input = df1.astype(str)\n",
    "df2=pd.read_csv('Human Activity Recognition/test/y_test.csv', sep=',',header=None)\n",
    "f = df2.as_matrix\n",
    "test_output = df2.astype(str)"
   ]
  },
  {
   "cell_type": "code",
   "execution_count": 7,
   "metadata": {},
   "outputs": [
    {
     "name": "stdout",
     "output_type": "stream",
     "text": [
      "\n",
      "Neural Networks\n"
     ]
    },
    {
     "name": "stderr",
     "output_type": "stream",
     "text": [
      "C:\\Users\\user\\Anaconda2\\lib\\site-packages\\sklearn\\neural_network\\multilayer_perceptron.py:912: DataConversionWarning: A column-vector y was passed when a 1d array was expected. Please change the shape of y to (n_samples, ), for example using ravel().\n",
      "  y = column_or_1d(y, warn=True)\n"
     ]
    },
    {
     "name": "stdout",
     "output_type": "stream",
     "text": [
      "Iteration 1, loss = 1.20309888\n",
      "Iteration 2, loss = 0.66428149\n",
      "Iteration 3, loss = 0.34623072\n",
      "Iteration 4, loss = 0.20491000\n",
      "Iteration 5, loss = 0.14499573\n",
      "Iteration 6, loss = 0.11520638\n",
      "Iteration 7, loss = 0.10065667\n",
      "Iteration 8, loss = 0.08857417\n",
      "Iteration 9, loss = 0.07999324\n",
      "Iteration 10, loss = 0.07121021\n",
      "Iteration 11, loss = 0.06799323\n",
      "Iteration 12, loss = 0.05977414\n",
      "Iteration 13, loss = 0.06841919\n",
      "Iteration 14, loss = 0.05907472\n",
      "Iteration 15, loss = 0.05217993\n",
      "Iteration 16, loss = 0.05251859\n",
      "Iteration 17, loss = 0.04520092\n",
      "Iteration 18, loss = 0.04442195\n",
      "Iteration 19, loss = 0.04277795\n",
      "Iteration 20, loss = 0.04010523\n",
      "Iteration 21, loss = 0.05306862\n",
      "Iteration 22, loss = 0.04357887\n",
      "Iteration 23, loss = 0.04542675\n",
      "Training loss did not improve more than tol=0.000100 for two consecutive epochs. Stopping.\n",
      "\n",
      "Neural Networks\n",
      "Iteration 1, loss = 0.56680149\n",
      "Iteration 2, loss = 0.17465276\n",
      "Iteration 3, loss = 0.12614401\n",
      "Iteration 4, loss = 0.11868931\n",
      "Iteration 5, loss = 0.08746055\n",
      "Iteration 6, loss = 0.10709432\n",
      "Iteration 7, loss = 0.07699747\n",
      "Iteration 8, loss = 0.06197455\n",
      "Iteration 9, loss = 0.05223822\n",
      "Iteration 10, loss = 0.05533954\n",
      "Iteration 11, loss = 0.05729771\n",
      "Iteration 12, loss = 0.04771334\n",
      "Iteration 13, loss = 0.04170681\n",
      "Iteration 14, loss = 0.04524673\n",
      "Iteration 15, loss = 0.05067918\n",
      "Iteration 16, loss = 0.04858606\n",
      "Training loss did not improve more than tol=0.000100 for two consecutive epochs. Stopping.\n",
      "\n",
      "Neural Networks\n",
      "Iteration 1, loss = 0.60189794\n",
      "Iteration 2, loss = 0.18645123\n",
      "Iteration 3, loss = 0.14781081\n",
      "Iteration 4, loss = 0.09500543\n",
      "Iteration 5, loss = 0.07649521\n",
      "Iteration 6, loss = 0.06862665\n",
      "Iteration 7, loss = 0.06581714\n",
      "Iteration 8, loss = 0.07476633\n",
      "Iteration 9, loss = 0.05258015\n",
      "Iteration 10, loss = 0.09958347\n",
      "Iteration 11, loss = 0.06020035\n",
      "Iteration 12, loss = 0.04616678\n",
      "Iteration 13, loss = 0.04529764\n",
      "Iteration 14, loss = 0.04011429\n",
      "Iteration 15, loss = 0.03830732\n",
      "Iteration 16, loss = 0.03649878\n",
      "Iteration 17, loss = 0.03970871\n",
      "Iteration 18, loss = 0.07172402\n",
      "Iteration 19, loss = 0.10062202\n",
      "Training loss did not improve more than tol=0.000100 for two consecutive epochs. Stopping.\n",
      "\n",
      "Neural Networks\n",
      "Iteration 1, loss = 0.56585637\n",
      "Iteration 2, loss = 0.18423444\n",
      "Iteration 3, loss = 0.12655603\n",
      "Iteration 4, loss = 0.09468655\n",
      "Iteration 5, loss = 0.10591511\n",
      "Iteration 6, loss = 0.07267494\n",
      "Iteration 7, loss = 0.06389784\n",
      "Iteration 8, loss = 0.06046834\n",
      "Iteration 9, loss = 0.06396178\n",
      "Iteration 10, loss = 0.04743286\n",
      "Iteration 11, loss = 0.04250810\n",
      "Iteration 12, loss = 0.04792600\n",
      "Iteration 13, loss = 0.05910325\n",
      "Iteration 14, loss = 0.04374272\n",
      "Training loss did not improve more than tol=0.000100 for two consecutive epochs. Stopping.\n",
      "\n",
      "Neural Networks\n",
      "Iteration 1, loss = 0.59387222\n",
      "Iteration 2, loss = 0.17768110\n",
      "Iteration 3, loss = 0.10727260\n",
      "Iteration 4, loss = 0.09936162\n",
      "Iteration 5, loss = 0.06647790\n",
      "Iteration 6, loss = 0.05731557\n",
      "Iteration 7, loss = 0.13019977\n",
      "Iteration 8, loss = 0.09578600\n",
      "Iteration 9, loss = 0.05612857\n",
      "Iteration 10, loss = 0.04461002\n",
      "Iteration 11, loss = 0.05241071\n",
      "Iteration 12, loss = 0.05455745\n",
      "Iteration 13, loss = 0.05114716\n",
      "Training loss did not improve more than tol=0.000100 for two consecutive epochs. Stopping.\n",
      "\n",
      "Neural Networks\n",
      "Iteration 1, loss = 0.58047240\n",
      "Iteration 2, loss = 0.16340895\n",
      "Iteration 3, loss = 0.11083371\n",
      "Iteration 4, loss = 0.09469544\n",
      "Iteration 5, loss = 0.07020974\n",
      "Iteration 6, loss = 0.06417851\n",
      "Iteration 7, loss = 0.05903816\n",
      "Iteration 8, loss = 0.04676756\n",
      "Iteration 9, loss = 0.06304268\n",
      "Iteration 10, loss = 0.06742146\n",
      "Iteration 11, loss = 0.05609610\n",
      "Training loss did not improve more than tol=0.000100 for two consecutive epochs. Stopping.\n",
      "\n",
      "Neural Networks\n",
      "Iteration 1, loss = 0.70054141\n",
      "Iteration 2, loss = 0.19853650\n",
      "Iteration 3, loss = 0.11302134\n",
      "Iteration 4, loss = 0.10574358\n",
      "Iteration 5, loss = 0.09821248\n",
      "Iteration 6, loss = 0.06029612\n",
      "Iteration 7, loss = 0.05646527\n",
      "Iteration 8, loss = 0.06156091\n",
      "Iteration 9, loss = 0.04483309\n",
      "Iteration 10, loss = 0.05271974\n",
      "Iteration 11, loss = 0.05178446\n",
      "Iteration 12, loss = 0.07869415\n",
      "Training loss did not improve more than tol=0.000100 for two consecutive epochs. Stopping.\n",
      "\n",
      "Neural Networks\n",
      "Iteration 1, loss = 0.60999638\n",
      "Iteration 2, loss = 0.17901900\n",
      "Iteration 3, loss = 0.12029360\n",
      "Iteration 4, loss = 0.09165635\n",
      "Iteration 5, loss = 0.06974204\n",
      "Iteration 6, loss = 0.05868809\n",
      "Iteration 7, loss = 0.07529542\n",
      "Iteration 8, loss = 0.05693269\n",
      "Iteration 9, loss = 0.05980634\n",
      "Iteration 10, loss = 0.06271178\n",
      "Iteration 11, loss = 0.07816426\n",
      "Training loss did not improve more than tol=0.000100 for two consecutive epochs. Stopping.\n",
      "\n",
      "Neural Networks\n",
      "Iteration 1, loss = 0.71200033\n",
      "Iteration 2, loss = 0.18951898\n",
      "Iteration 3, loss = 0.14218031\n",
      "Iteration 4, loss = 0.11866501\n",
      "Iteration 5, loss = 0.07706525\n",
      "Iteration 6, loss = 0.07909918\n",
      "Iteration 7, loss = 0.10452876\n",
      "Iteration 8, loss = 0.06546327\n",
      "Iteration 9, loss = 0.05197567\n",
      "Iteration 10, loss = 0.07671558\n",
      "Iteration 11, loss = 0.05677869\n",
      "Iteration 12, loss = 0.05496111\n",
      "Training loss did not improve more than tol=0.000100 for two consecutive epochs. Stopping.\n",
      "\n",
      "Neural Networks\n",
      "Iteration 1, loss = 0.66577638\n",
      "Iteration 2, loss = 0.19765844\n",
      "Iteration 3, loss = 0.11925800\n",
      "Iteration 4, loss = 0.08482897\n",
      "Iteration 5, loss = 0.07234206\n",
      "Iteration 6, loss = 0.05924840\n",
      "Iteration 7, loss = 0.07928166\n",
      "Iteration 8, loss = 0.08539607\n",
      "Iteration 9, loss = 0.05308238\n",
      "Iteration 10, loss = 0.05196371\n",
      "Iteration 11, loss = 0.04533417\n",
      "Iteration 12, loss = 0.04831142\n",
      "Iteration 13, loss = 0.06994771\n",
      "Iteration 14, loss = 0.04603541\n",
      "Training loss did not improve more than tol=0.000100 for two consecutive epochs. Stopping.\n",
      "\n",
      "Neural Networks\n",
      "Iteration 1, loss = 0.54668219\n",
      "Iteration 2, loss = 0.16140878\n",
      "Iteration 3, loss = 0.10993118\n",
      "Iteration 4, loss = 0.08474103\n",
      "Iteration 5, loss = 0.09605847\n",
      "Iteration 6, loss = 0.06644361\n",
      "Iteration 7, loss = 0.05294382\n",
      "Iteration 8, loss = 0.06646597\n",
      "Iteration 9, loss = 0.06061228\n",
      "Iteration 10, loss = 0.07432874\n",
      "Training loss did not improve more than tol=0.000100 for two consecutive epochs. Stopping.\n",
      "[94.401085850016969, 94.129623345775357, 93.824228028503569, 94.163556158805562, 93.145571767899554, 93.247370206990155, 94.468951476077365, 91.48286392941975, 94.231421784865972, 94.027824906684771, 92.738378011537165]\n"
     ]
    }
   ],
   "source": [
    "iterations = [10,50,100,150,200,250,300,350,400,450,500,1000]\n",
    "accuracy = []\n",
    "for j in range(len(iterations)):\n",
    "    print('\\nNeural Networks')\n",
    "    NN = MLPClassifier(hidden_layer_sizes=(1000, iterations[j]), learning_rate_init=0.001, max_iter=200, verbose = 3)\n",
    "    NN.fit(train_input, train_output)\n",
    "    y_pred = NN.predict(test_input)\n",
    "    accuracy.append(metrics.accuracy_score(test_output,y_pred)*100) \n",
    "print(accuracy)"
   ]
  },
  {
   "cell_type": "code",
   "execution_count": 18,
   "metadata": {
    "scrolled": true
   },
   "outputs": [
    {
     "name": "stdout",
     "output_type": "stream",
     "text": [
      "[10, 100, 200, 300, 400, 500, 600, 700, 800, 900, 1000]\n",
      "[94.401085850016969, 94.129623345775357, 93.824228028503569, 94.163556158805562, 93.145571767899554, 93.247370206990155, 94.468951476077365, 91.48286392941975, 94.231421784865972, 94.027824906684771, 92.738378011537165]\n"
     ]
    },
    {
     "data": {
      "image/png": "[encoded data removed]",
      "text/plain": [
       "<matplotlib.figure.Figure at 0x86d4828>"
      ]
     },
     "metadata": {},
     "output_type": "display_data"
    }
   ],
   "source": [
    "print(iterations)\n",
    "print(accuracy)\n",
    "import matplotlib.pyplot as plt \n",
    "plt.plot(iterations, accuracy)\n",
    "plt.xlabel('Number of iterations')\n",
    "plt.ylabel('Accuracy')\n",
    "plt.show()"
   ]
  },
  {
   "cell_type": "code",
   "execution_count": null,
   "metadata": {
    "collapsed": true
   },
   "outputs": [],
   "source": []
  },
  {
   "cell_type": "code",
   "execution_count": null,
   "metadata": {
    "collapsed": true
   },
   "outputs": [],
   "source": []
  }
 ],
 "metadata": {
  "kernelspec": {
   "display_name": "Python 2",
   "language": "python",
   "name": "python2"
  },
  "language_info": {
   "codemirror_mode": {
    "name": "ipython",
    "version": 2
   },
   "file_extension": ".py",
   "mimetype": "text/x-python",
   "name": "python",
   "nbconvert_exporter": "python",
   "pygments_lexer": "ipython2",
   "version": "2.7.13"
  }
 },
 "nbformat": 4,
 "nbformat_minor": 2
}
